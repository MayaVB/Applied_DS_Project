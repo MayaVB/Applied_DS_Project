{
 "cells": [
  {
   "cell_type": "markdown",
   "metadata": {},
   "source": [
    "<!-- Startup Sucess EDA -->"
   ]
  },
  {
   "cell_type": "markdown",
   "metadata": {},
   "source": [
    "# StartUp Sucess- EDA"
   ]
  },
  {
   "cell_type": "code",
   "execution_count": 1,
   "metadata": {},
   "outputs": [],
   "source": [
    "import numpy as np\n",
    "from sklearn.preprocessing import StandardScaler, LabelEncoder\n",
    "import pandas as pd\n",
    "import matplotlib.pyplot as plt\n",
    "\n",
    "import seaborn as sns\n",
    "%matplotlib inline\n",
    "from tabulate import tabulate\n",
    "# !pip install folium\n",
    "import folium\n",
    "# %pip install yfinance\n",
    "# %pip install tweepy\n",
    "# %pip install wbdata pandas\n",
    "import sys\n",
    "sys.path.append('../src')\n",
    "\n",
    "import yfinance as yf\n",
    "import datetime\n",
    "# import tweepy\n",
    "import wbdata\n",
    "from preprocess import preprocess_data_classifier"
   ]
  },
  {
   "cell_type": "markdown",
   "metadata": {},
   "source": [
    "# Explore and adjust data"
   ]
  },
  {
   "cell_type": "markdown",
   "metadata": {},
   "source": [
    "## functions"
   ]
  },
  {
   "cell_type": "markdown",
   "metadata": {},
   "source": [
    "### add economic info"
   ]
  },
  {
   "cell_type": "markdown",
   "metadata": {},
   "source": [
    "### add & adjust data"
   ]
  },
  {
   "cell_type": "code",
   "execution_count": 2,
   "metadata": {},
   "outputs": [
    {
     "data": {
      "text/html": [
       "<div>\n",
       "<style scoped>\n",
       "    .dataframe tbody tr th:only-of-type {\n",
       "        vertical-align: middle;\n",
       "    }\n",
       "\n",
       "    .dataframe tbody tr th {\n",
       "        vertical-align: top;\n",
       "    }\n",
       "\n",
       "    .dataframe thead th {\n",
       "        text-align: right;\n",
       "    }\n",
       "</style>\n",
       "<table border=\"1\" class=\"dataframe\">\n",
       "  <thead>\n",
       "    <tr style=\"text-align: right;\">\n",
       "      <th></th>\n",
       "      <th>Unnamed: 0</th>\n",
       "      <th>state_code</th>\n",
       "      <th>latitude</th>\n",
       "      <th>longitude</th>\n",
       "      <th>zip_code</th>\n",
       "      <th>id</th>\n",
       "      <th>city</th>\n",
       "      <th>Unnamed: 6</th>\n",
       "      <th>name</th>\n",
       "      <th>labels</th>\n",
       "      <th>...</th>\n",
       "      <th>object_id</th>\n",
       "      <th>has_VC</th>\n",
       "      <th>has_angel</th>\n",
       "      <th>has_roundA</th>\n",
       "      <th>has_roundB</th>\n",
       "      <th>has_roundC</th>\n",
       "      <th>has_roundD</th>\n",
       "      <th>avg_participants</th>\n",
       "      <th>is_top500</th>\n",
       "      <th>status</th>\n",
       "    </tr>\n",
       "  </thead>\n",
       "  <tbody>\n",
       "    <tr>\n",
       "      <th>0</th>\n",
       "      <td>1005</td>\n",
       "      <td>CA</td>\n",
       "      <td>42.358880</td>\n",
       "      <td>-71.056820</td>\n",
       "      <td>92101</td>\n",
       "      <td>c:6669</td>\n",
       "      <td>San Diego</td>\n",
       "      <td>NaN</td>\n",
       "      <td>Bandsintown</td>\n",
       "      <td>1</td>\n",
       "      <td>...</td>\n",
       "      <td>c:6669</td>\n",
       "      <td>0</td>\n",
       "      <td>1</td>\n",
       "      <td>0</td>\n",
       "      <td>0</td>\n",
       "      <td>0</td>\n",
       "      <td>0</td>\n",
       "      <td>1.0000</td>\n",
       "      <td>0</td>\n",
       "      <td>acquired</td>\n",
       "    </tr>\n",
       "    <tr>\n",
       "      <th>1</th>\n",
       "      <td>204</td>\n",
       "      <td>CA</td>\n",
       "      <td>37.238916</td>\n",
       "      <td>-121.973718</td>\n",
       "      <td>95032</td>\n",
       "      <td>c:16283</td>\n",
       "      <td>Los Gatos</td>\n",
       "      <td>NaN</td>\n",
       "      <td>TriCipher</td>\n",
       "      <td>1</td>\n",
       "      <td>...</td>\n",
       "      <td>c:16283</td>\n",
       "      <td>1</td>\n",
       "      <td>0</td>\n",
       "      <td>0</td>\n",
       "      <td>1</td>\n",
       "      <td>1</td>\n",
       "      <td>1</td>\n",
       "      <td>4.7500</td>\n",
       "      <td>1</td>\n",
       "      <td>acquired</td>\n",
       "    </tr>\n",
       "    <tr>\n",
       "      <th>2</th>\n",
       "      <td>1001</td>\n",
       "      <td>CA</td>\n",
       "      <td>32.901049</td>\n",
       "      <td>-117.192656</td>\n",
       "      <td>92121</td>\n",
       "      <td>c:65620</td>\n",
       "      <td>San Diego</td>\n",
       "      <td>San Diego CA 92121</td>\n",
       "      <td>Plixi</td>\n",
       "      <td>1</td>\n",
       "      <td>...</td>\n",
       "      <td>c:65620</td>\n",
       "      <td>0</td>\n",
       "      <td>0</td>\n",
       "      <td>1</td>\n",
       "      <td>0</td>\n",
       "      <td>0</td>\n",
       "      <td>0</td>\n",
       "      <td>4.0000</td>\n",
       "      <td>1</td>\n",
       "      <td>acquired</td>\n",
       "    </tr>\n",
       "    <tr>\n",
       "      <th>3</th>\n",
       "      <td>738</td>\n",
       "      <td>CA</td>\n",
       "      <td>37.320309</td>\n",
       "      <td>-122.050040</td>\n",
       "      <td>95014</td>\n",
       "      <td>c:42668</td>\n",
       "      <td>Cupertino</td>\n",
       "      <td>Cupertino CA 95014</td>\n",
       "      <td>Solidcore Systems</td>\n",
       "      <td>1</td>\n",
       "      <td>...</td>\n",
       "      <td>c:42668</td>\n",
       "      <td>0</td>\n",
       "      <td>0</td>\n",
       "      <td>0</td>\n",
       "      <td>1</td>\n",
       "      <td>1</td>\n",
       "      <td>1</td>\n",
       "      <td>3.3333</td>\n",
       "      <td>1</td>\n",
       "      <td>acquired</td>\n",
       "    </tr>\n",
       "    <tr>\n",
       "      <th>4</th>\n",
       "      <td>1002</td>\n",
       "      <td>CA</td>\n",
       "      <td>37.779281</td>\n",
       "      <td>-122.419236</td>\n",
       "      <td>94105</td>\n",
       "      <td>c:65806</td>\n",
       "      <td>San Francisco</td>\n",
       "      <td>San Francisco CA 94105</td>\n",
       "      <td>Inhale Digital</td>\n",
       "      <td>0</td>\n",
       "      <td>...</td>\n",
       "      <td>c:65806</td>\n",
       "      <td>1</td>\n",
       "      <td>1</td>\n",
       "      <td>0</td>\n",
       "      <td>0</td>\n",
       "      <td>0</td>\n",
       "      <td>0</td>\n",
       "      <td>1.0000</td>\n",
       "      <td>1</td>\n",
       "      <td>closed</td>\n",
       "    </tr>\n",
       "  </tbody>\n",
       "</table>\n",
       "<p>5 rows × 49 columns</p>\n",
       "</div>"
      ],
      "text/plain": [
       "   Unnamed: 0 state_code   latitude   longitude zip_code       id  \\\n",
       "0        1005         CA  42.358880  -71.056820    92101   c:6669   \n",
       "1         204         CA  37.238916 -121.973718    95032  c:16283   \n",
       "2        1001         CA  32.901049 -117.192656    92121  c:65620   \n",
       "3         738         CA  37.320309 -122.050040    95014  c:42668   \n",
       "4        1002         CA  37.779281 -122.419236    94105  c:65806   \n",
       "\n",
       "            city              Unnamed: 6               name  labels  ...  \\\n",
       "0      San Diego                     NaN        Bandsintown       1  ...   \n",
       "1      Los Gatos                     NaN          TriCipher       1  ...   \n",
       "2      San Diego      San Diego CA 92121              Plixi       1  ...   \n",
       "3      Cupertino      Cupertino CA 95014  Solidcore Systems       1  ...   \n",
       "4  San Francisco  San Francisco CA 94105     Inhale Digital       0  ...   \n",
       "\n",
       "  object_id has_VC has_angel has_roundA  has_roundB  has_roundC  has_roundD  \\\n",
       "0    c:6669      0         1          0           0           0           0   \n",
       "1   c:16283      1         0          0           1           1           1   \n",
       "2   c:65620      0         0          1           0           0           0   \n",
       "3   c:42668      0         0          0           1           1           1   \n",
       "4   c:65806      1         1          0           0           0           0   \n",
       "\n",
       "   avg_participants  is_top500    status  \n",
       "0            1.0000          0  acquired  \n",
       "1            4.7500          1  acquired  \n",
       "2            4.0000          1  acquired  \n",
       "3            3.3333          1  acquired  \n",
       "4            1.0000          1    closed  \n",
       "\n",
       "[5 rows x 49 columns]"
      ]
     },
     "execution_count": 2,
     "metadata": {},
     "output_type": "execute_result"
    }
   ],
   "source": [
    "# load data:\n",
    "df = pd.read_csv('../data/startup_data.csv')\n",
    "df.head()"
   ]
  },
  {
   "cell_type": "code",
   "execution_count": 3,
   "metadata": {},
   "outputs": [
    {
     "data": {
      "image/png": "[encoded data removed]",
      "text/plain": [
       "<Figure size 640x480 with 1 Axes>"
      ]
     },
     "metadata": {},
     "output_type": "display_data"
    }
   ],
   "source": [
    "sns.histplot(df['relationships'])\n",
    "plt.title('Relationships Distribution')\n",
    "plt.show()"
   ]
  },
  {
   "cell_type": "code",
   "execution_count": 4,
   "metadata": {},
   "outputs": [
    {
     "data": {
      "image/png": "[encoded data removed]",
      "text/plain": [
       "<Figure size 640x480 with 1 Axes>"
      ]
     },
     "metadata": {},
     "output_type": "display_data"
    }
   ],
   "source": [
    "sns.histplot(df['funding_total_usd'])\n",
    "plt.title('funding_total_usd Distribution')\n",
    "plt.show()"
   ]
  },
  {
   "cell_type": "code",
   "execution_count": 8,
   "metadata": {},
   "outputs": [
    {
     "name": "stderr",
     "output_type": "stream",
     "text": [
      "/home/mayavb/anaconda3/lib/python3.11/site-packages/sklearn/preprocessing/_encoders.py:868: FutureWarning: `sparse` was renamed to `sparse_output` in version 1.2 and will be removed in 1.4. `sparse_output` is ignored unless you leave `sparse` to its default value.\n",
      "  warnings.warn(\n"
     ]
    }
   ],
   "source": [
    "df_cleaned, xx = preprocess_data_classifier(df, useKNNImputer=False, remove_feature_names=False)"
   ]
  },
  {
   "cell_type": "code",
   "execution_count": 10,
   "metadata": {},
   "outputs": [
    {
     "data": {
      "text/html": [
       "<div>\n",
       "<style scoped>\n",
       "    .dataframe tbody tr th:only-of-type {\n",
       "        vertical-align: middle;\n",
       "    }\n",
       "\n",
       "    .dataframe tbody tr th {\n",
       "        vertical-align: top;\n",
       "    }\n",
       "\n",
       "    .dataframe thead th {\n",
       "        text-align: right;\n",
       "    }\n",
       "</style>\n",
       "<table border=\"1\" class=\"dataframe\">\n",
       "  <thead>\n",
       "    <tr style=\"text-align: right;\">\n",
       "      <th></th>\n",
       "      <th>0</th>\n",
       "      <th>1</th>\n",
       "      <th>2</th>\n",
       "      <th>3</th>\n",
       "      <th>4</th>\n",
       "      <th>5</th>\n",
       "      <th>6</th>\n",
       "      <th>7</th>\n",
       "      <th>8</th>\n",
       "      <th>9</th>\n",
       "      <th>...</th>\n",
       "      <th>has_roundC</th>\n",
       "      <th>has_roundD</th>\n",
       "      <th>avg_participants</th>\n",
       "      <th>is_top500</th>\n",
       "      <th>first_funding_at_year</th>\n",
       "      <th>first_funding_at_month</th>\n",
       "      <th>first_funding_at_day</th>\n",
       "      <th>last_funding_at_year</th>\n",
       "      <th>last_funding_at_month</th>\n",
       "      <th>last_funding_at_day</th>\n",
       "    </tr>\n",
       "  </thead>\n",
       "  <tbody>\n",
       "    <tr>\n",
       "      <th>0</th>\n",
       "      <td>0.0</td>\n",
       "      <td>0.0</td>\n",
       "      <td>0.0</td>\n",
       "      <td>0.0</td>\n",
       "      <td>0.0</td>\n",
       "      <td>0.0</td>\n",
       "      <td>0.0</td>\n",
       "      <td>0.0</td>\n",
       "      <td>0.0</td>\n",
       "      <td>0.0</td>\n",
       "      <td>...</td>\n",
       "      <td>-0.541550</td>\n",
       "      <td>-0.324244</td>\n",
       "      <td>-0.976196</td>\n",
       "      <td>-2.033805</td>\n",
       "      <td>0.655214</td>\n",
       "      <td>-0.579983</td>\n",
       "      <td>-0.926741</td>\n",
       "      <td>0.395267</td>\n",
       "      <td>-1.462555</td>\n",
       "      <td>-1.249880</td>\n",
       "    </tr>\n",
       "    <tr>\n",
       "      <th>1</th>\n",
       "      <td>0.0</td>\n",
       "      <td>0.0</td>\n",
       "      <td>0.0</td>\n",
       "      <td>0.0</td>\n",
       "      <td>0.0</td>\n",
       "      <td>0.0</td>\n",
       "      <td>0.0</td>\n",
       "      <td>0.0</td>\n",
       "      <td>0.0</td>\n",
       "      <td>0.0</td>\n",
       "      <td>...</td>\n",
       "      <td>1.846552</td>\n",
       "      <td>3.084093</td>\n",
       "      <td>1.031087</td>\n",
       "      <td>0.491689</td>\n",
       "      <td>-1.097192</td>\n",
       "      <td>-1.134509</td>\n",
       "      <td>0.377734</td>\n",
       "      <td>-0.065793</td>\n",
       "      <td>1.669152</td>\n",
       "      <td>1.510941</td>\n",
       "    </tr>\n",
       "    <tr>\n",
       "      <th>2</th>\n",
       "      <td>0.0</td>\n",
       "      <td>0.0</td>\n",
       "      <td>0.0</td>\n",
       "      <td>0.0</td>\n",
       "      <td>0.0</td>\n",
       "      <td>0.0</td>\n",
       "      <td>0.0</td>\n",
       "      <td>0.0</td>\n",
       "      <td>0.0</td>\n",
       "      <td>0.0</td>\n",
       "      <td>...</td>\n",
       "      <td>-0.541550</td>\n",
       "      <td>-0.324244</td>\n",
       "      <td>0.629631</td>\n",
       "      <td>0.491689</td>\n",
       "      <td>1.093315</td>\n",
       "      <td>-0.857246</td>\n",
       "      <td>1.983242</td>\n",
       "      <td>0.395267</td>\n",
       "      <td>-0.893154</td>\n",
       "      <td>1.715446</td>\n",
       "    </tr>\n",
       "    <tr>\n",
       "      <th>3</th>\n",
       "      <td>0.0</td>\n",
       "      <td>0.0</td>\n",
       "      <td>0.0</td>\n",
       "      <td>0.0</td>\n",
       "      <td>0.0</td>\n",
       "      <td>0.0</td>\n",
       "      <td>0.0</td>\n",
       "      <td>0.0</td>\n",
       "      <td>0.0</td>\n",
       "      <td>0.0</td>\n",
       "      <td>...</td>\n",
       "      <td>1.846552</td>\n",
       "      <td>3.084093</td>\n",
       "      <td>0.272763</td>\n",
       "      <td>0.491689</td>\n",
       "      <td>-1.097192</td>\n",
       "      <td>-1.134509</td>\n",
       "      <td>0.678767</td>\n",
       "      <td>-0.987913</td>\n",
       "      <td>-0.608453</td>\n",
       "      <td>1.204183</td>\n",
       "    </tr>\n",
       "    <tr>\n",
       "      <th>4</th>\n",
       "      <td>0.0</td>\n",
       "      <td>0.0</td>\n",
       "      <td>0.0</td>\n",
       "      <td>0.0</td>\n",
       "      <td>0.0</td>\n",
       "      <td>0.0</td>\n",
       "      <td>0.0</td>\n",
       "      <td>0.0</td>\n",
       "      <td>0.0</td>\n",
       "      <td>0.0</td>\n",
       "      <td>...</td>\n",
       "      <td>-0.541550</td>\n",
       "      <td>-0.324244</td>\n",
       "      <td>-0.976196</td>\n",
       "      <td>0.491689</td>\n",
       "      <td>1.093315</td>\n",
       "      <td>0.529069</td>\n",
       "      <td>-0.926741</td>\n",
       "      <td>1.317387</td>\n",
       "      <td>-0.608453</td>\n",
       "      <td>-1.249880</td>\n",
       "    </tr>\n",
       "  </tbody>\n",
       "</table>\n",
       "<p>5 rows × 121 columns</p>\n",
       "</div>"
      ],
      "text/plain": [
       "     0    1    2    3    4    5    6    7    8    9  ...  has_roundC  \\\n",
       "0  0.0  0.0  0.0  0.0  0.0  0.0  0.0  0.0  0.0  0.0  ...   -0.541550   \n",
       "1  0.0  0.0  0.0  0.0  0.0  0.0  0.0  0.0  0.0  0.0  ...    1.846552   \n",
       "2  0.0  0.0  0.0  0.0  0.0  0.0  0.0  0.0  0.0  0.0  ...   -0.541550   \n",
       "3  0.0  0.0  0.0  0.0  0.0  0.0  0.0  0.0  0.0  0.0  ...    1.846552   \n",
       "4  0.0  0.0  0.0  0.0  0.0  0.0  0.0  0.0  0.0  0.0  ...   -0.541550   \n",
       "\n",
       "   has_roundD  avg_participants  is_top500  first_funding_at_year  \\\n",
       "0   -0.324244         -0.976196  -2.033805               0.655214   \n",
       "1    3.084093          1.031087   0.491689              -1.097192   \n",
       "2   -0.324244          0.629631   0.491689               1.093315   \n",
       "3    3.084093          0.272763   0.491689              -1.097192   \n",
       "4   -0.324244         -0.976196   0.491689               1.093315   \n",
       "\n",
       "   first_funding_at_month  first_funding_at_day  last_funding_at_year  \\\n",
       "0               -0.579983             -0.926741              0.395267   \n",
       "1               -1.134509              0.377734             -0.065793   \n",
       "2               -0.857246              1.983242              0.395267   \n",
       "3               -1.134509              0.678767             -0.987913   \n",
       "4                0.529069             -0.926741              1.317387   \n",
       "\n",
       "   last_funding_at_month  last_funding_at_day  \n",
       "0              -1.462555            -1.249880  \n",
       "1               1.669152             1.510941  \n",
       "2              -0.893154             1.715446  \n",
       "3              -0.608453             1.204183  \n",
       "4              -0.608453            -1.249880  \n",
       "\n",
       "[5 rows x 121 columns]"
      ]
     },
     "execution_count": 10,
     "metadata": {},
     "output_type": "execute_result"
    }
   ],
   "source": [
    "df_cleaned.head()"
   ]
  },
  {
   "cell_type": "code",
   "execution_count": 12,
   "metadata": {},
   "outputs": [
    {
     "data": {
      "image/png": "[encoded data removed]",
      "text/plain": [
       "<Figure size 640x480 with 1 Axes>"
      ]
     },
     "metadata": {},
     "output_type": "display_data"
    }
   ],
   "source": [
    "sns.histplot(df_cleaned['relationships'])\n",
    "plt.title('Relationships Distribution')\n",
    "plt.show()"
   ]
  },
  {
   "cell_type": "code",
   "execution_count": null,
   "metadata": {},
   "outputs": [],
   "source": [
    "sns.histplot(df_cleaned['relationships'])\n",
    "plt.title('Relationships cleaned distribution')\n",
    "plt.show()"
   ]
  },
  {
   "cell_type": "code",
   "execution_count": null,
   "metadata": {},
   "outputs": [],
   "source": [
    "import yfinance as yf\n",
    "\n",
    "# Create lable\n",
    "df['status_code'] = df['status'].map({'acquired': 1, 'closed': 0})\n",
    "\n",
    "# Convert the date column to datetime\n",
    "df['founded_at_date'] = pd.to_datetime(df['founded_at'])\n",
    "\n",
    "# Extract year, month, and day into separate columns\n",
    "df['founded_at_year'] = df['founded_at_date'].dt.year\n",
    "df['founded_at_month'] = df['founded_at_date'].dt.month\n",
    "df['founded_at_day'] = df['founded_at_date'].dt.day\n",
    "\n",
    "# remove irrelevant columns:\n",
    "df = df.drop(columns=['status', 'founded_at', 'name', 'id', 'state_code.1', 'object_id', 'category_code', 'labels', 'closed_at',\"Unnamed: 6\",\"Unnamed: 0\"])\n",
    "# Add nasdaq data\n",
    "df = add_nasdaq_annual_changes(df)\n",
    "\n",
    "indicator_code = 'NY.GDP.MKTP.KD.ZG'\n",
    "df = add_economic_indicators(df, indicator_code) # will replace add_us_gdp_growth_data_over_years\n",
    "\n",
    "indicator_code = 'SL.UEM.TOTL.ZS'  # Unemployment rate, percentage of total labor force\n",
    "df = add_economic_indicators(df, indicator_code) # will replace add_us_gdp_growth_data_over_years"
   ]
  },
  {
   "cell_type": "code",
   "execution_count": null,
   "metadata": {},
   "outputs": [],
   "source": [
    "df.info()"
   ]
  },
  {
   "cell_type": "code",
   "execution_count": null,
   "metadata": {},
   "outputs": [],
   "source": [
    "columns_with_nan = df.columns[df.isna().any()].tolist()\n",
    "print(columns_with_nan)\n"
   ]
  },
  {
   "cell_type": "markdown",
   "metadata": {},
   "source": [
    "There are 2 columns with missing values - 'age_first_milestone_year', 'age_last_milestone_year'. The companies that have no value in those columns also have 0 in milestones column. So, in order to deal with the missing values, we used a correlation matrix and we discovered that age_last_funding_year column has the highest correlation with 'age_first_milestone_year' & 'age_last_milestone_year'. (It make sense since one the company's milestones coulld be raising certain amount of money which could be done by funding).\n",
    "\n"
   ]
  },
  {
   "cell_type": "code",
   "execution_count": null,
   "metadata": {},
   "outputs": [],
   "source": [
    "# looking at the columns with the missing values:\n",
    "fig, axes = plt.subplots(1, 2, figsize=(16, 6))\n",
    "sns.histplot(df['age_first_milestone_year'], bins=20, color='blue',ax=axes[0])\n",
    "axes[0].set_title('age_first_milestone_year', fontsize=15)\n",
    "axes[0].set_xlabel('age_first_milestone_year', fontsize=14)\n",
    "axes[0].set_ylabel('Count', fontsize=14)\n",
    "axes[0].tick_params(axis='x', labelsize=12)\n",
    "axes[0].tick_params(axis='y', labelsize=12)\n",
    "plt.grid()\n",
    "print('age_first_milestone_year', ' skewness:', df['age_first_milestone_year'].skew(axis = 0, skipna = True) )\n",
    "df['age_first_milestone_year'].describe(include='all')\n",
    "\n",
    "sns.histplot(data=df['age_last_milestone_year'],bins=20, color='red',ax=axes[1])\n",
    "axes[1].set_title('age_last_milestone_year', fontsize=15)\n",
    "axes[1].set_xlabel('age_last_milestone_year', fontsize=14)\n",
    "axes[1].set_ylabel('Count', fontsize=14)\n",
    "axes[1].tick_params(axis='x', labelsize=12)\n",
    "axes[1].tick_params(axis='y', labelsize=12)\n",
    "plt.grid()\n",
    "print('age_last_milestone_year', ' skewness:', df['age_last_milestone_year'].skew(axis = 0, skipna = True) )\n",
    "\n",
    "\n",
    "# Get descriptive statistics\n",
    "desc_first = df['age_first_milestone_year'].describe(include='all')\n",
    "desc_last = df['age_last_milestone_year'].describe(include='all')\n",
    "\n",
    "# Combine the statistics into a single DataFrame\n",
    "desc_table = pd.DataFrame({\n",
    "    'age_first_milestone_year': desc_first,\n",
    "    'age_last_milestone_year': desc_last\n",
    "})\n",
    "\n",
    "# Display the table with tabulate\n",
    "print(tabulate(desc_table, headers='keys', tablefmt='pretty'))\n"
   ]
  },
  {
   "cell_type": "code",
   "execution_count": null,
   "metadata": {},
   "outputs": [],
   "source": [
    "#let's look for correlations for those columns.\n",
    "\n",
    "# Compute the correlation matrix\n",
    "correlation_matrix = df.corr(numeric_only = True)\n",
    "\n",
    "# Find correlations with the columns containing missing values\n",
    "correlations_first_milestone_age = correlation_matrix['age_first_milestone_year'].abs().sort_values(ascending=False)\n",
    "correlations_age_last_milestone_year = correlation_matrix['age_last_milestone_year'].abs().sort_values(ascending=False)\n",
    "\n",
    "# Print the correlations\n",
    "print(correlations_first_milestone_age[correlations_first_milestone_age>0.5])\n",
    "print(correlations_age_last_milestone_year[correlations_age_last_milestone_year>0.5])\n",
    "\n",
    "# We see that last_funding_age is highly correlated with our columns.\n",
    "# It could make sense since it's reasonable that one of a company's milestones is to raise certin amount of money which could\n",
    "# be done by funding. "
   ]
  },
  {
   "cell_type": "markdown",
   "metadata": {},
   "source": [
    "In order to fill in the missing values we used the basic knn algorithm. Then, we evaluated the effectiveness of the imputation process and assessed the quality of the imputed data by comparing summary statistics (e.g., mean, median, standard deviation) before and after the imputation. We see that the results are very much alike, so we can proceed."
   ]
  },
  {
   "cell_type": "code",
   "execution_count": null,
   "metadata": {},
   "outputs": [],
   "source": [
    "from sklearn.impute import KNNImputer\n",
    "\n",
    "# fill in the missing values using knn:\n",
    "\n",
    "# Create a copy of the DataFrame with only the columns of interest \n",
    "columns_with_missing_values = ['age_first_milestone_year','age_last_milestone_year']\n",
    "columns_of_interest = ['age_last_funding_year'] + columns_with_missing_values\n",
    "data_subset = df[columns_of_interest].copy()\n",
    "\n",
    "# Instantiate the KNNImputer with the desired number of neighbors\n",
    "knn_imputer = KNNImputer(n_neighbors=5) \n",
    "\n",
    "# Fit and transform the data\n",
    "imputed_data = knn_imputer.fit_transform(data_subset)\n",
    "\n",
    "# Replace the missing values in the original DataFrame with the imputed values\n",
    "for i, col in enumerate(columns_with_missing_values):\n",
    "    df[col] = imputed_data[:, i + 1]  \n",
    "\n",
    "##### To evaluate the effectiveness of the imputation process and assess the quality of the imputed data, \n",
    "##### we are comparing summary statistics(e.g., mean, median, standard deviation) before (2 cells above) and after the\n",
    "##### imputation (the next cell). We see that the results are very much alike."
   ]
  },
  {
   "cell_type": "code",
   "execution_count": null,
   "metadata": {},
   "outputs": [],
   "source": [
    "# looking at the columns with the missing values:\n",
    "fig, axes = plt.subplots(1, 2, figsize=(16, 6))\n",
    "sns.histplot(df['age_first_milestone_year'], bins=20, color='blue',ax=axes[0])\n",
    "axes[0].set_title('age_first_milestone_year', fontsize=15)\n",
    "axes[0].set_xlabel('age_first_milestone_year', fontsize=14)\n",
    "axes[0].set_ylabel('Count', fontsize=14)\n",
    "axes[0].tick_params(axis='x', labelsize=12)\n",
    "axes[0].tick_params(axis='y', labelsize=12)\n",
    "plt.grid()\n",
    "print('age_first_milestone_year', ' skewness:', df['age_first_milestone_year'].skew(axis = 0, skipna = True) )\n",
    "df['age_first_milestone_year'].describe(include='all')\n",
    "\n",
    "sns.histplot(data=df['age_last_milestone_year'],bins=20, color='red',ax=axes[1])\n",
    "axes[1].set_title('age_last_milestone_year', fontsize=15)\n",
    "axes[1].set_xlabel('age_last_milestone_year', fontsize=14)\n",
    "axes[1].set_ylabel('Count', fontsize=14)\n",
    "axes[1].tick_params(axis='x', labelsize=12)\n",
    "axes[1].tick_params(axis='y', labelsize=12)\n",
    "plt.grid()\n",
    "print('age_last_milestone_year', ' skewness:', df['age_last_milestone_year'].skew(axis = 0, skipna = True) )\n",
    "\n",
    "\n",
    "# Get descriptive statistics\n",
    "desc_first = df['age_first_milestone_year'].describe(include='all')\n",
    "desc_last = df['age_last_milestone_year'].describe(include='all')\n",
    "\n",
    "# Combine the statistics into a single DataFrame\n",
    "desc_table = pd.DataFrame({\n",
    "    'age_first_milestone_year': desc_first,\n",
    "    'age_last_milestone_year': desc_last\n",
    "})\n",
    "\n",
    "# Display the table with tabulate\n",
    "print(tabulate(desc_table, headers='keys', tablefmt='pretty'))\n"
   ]
  },
  {
   "cell_type": "code",
   "execution_count": null,
   "metadata": {},
   "outputs": [],
   "source": [
    "# #deal with different date formats\n",
    "# from datetime import datetime\n",
    "\n",
    "# dates_in_df = ['last_funding_at','first_funding_at','founded_at']\n",
    "\n",
    "# formatted_dates = []\n",
    "# formatted_dates_MONTH_DAY = []\n",
    "# formatted_dates_YEAR = []\n",
    "# for ind in dates_in_df:\n",
    "#     dates = df[ind]\n",
    "#     for date in dates:\n",
    "#         # Try to parse the date string as MM/DD/YYYY\n",
    "#         try:\n",
    "#             parsed_date = datetime.strptime(date, '%m/%d/%Y')\n",
    "#         # If it fails, assume the date string is in M/D/YYYY format\n",
    "#         except ValueError:\n",
    "#             parsed_date = datetime.strptime(date, '%m/%d/%Y')\n",
    "#         # Extract month and year from the parsed date\n",
    "#         day = parsed_date.strftime('%d')\n",
    "#         month = parsed_date.strftime('%m')\n",
    "#         year = parsed_date.strftime('%Y')\n",
    "#         # Combine month and year as a string in MM/YYYY format\n",
    "#         formatted_date_MONTH_DAY = f\"{month}/{day}\"\n",
    "#         formatted_dates_MONTH_DAY.append(formatted_date_MONTH_DAY)\n",
    "#         # year format only\n",
    "#         formatted_date_YEAR = f\"{year}\"\n",
    "#         formatted_dates_YEAR.append(formatted_date_YEAR)\n",
    "#         # Convert the parsed date back to a string in MM/DD/YYYY format\n",
    "#         formatted_date = parsed_date.strftime('%m/%d/%Y')\n",
    "#         formatted_dates.append(formatted_date)\n",
    "               \n",
    "     \n",
    "#     df[ind] = formatted_dates\n",
    "#     df[ind + 'MONTH/DAY'] = formatted_dates_MONTH_DAY\n",
    "#     df[ind + 'YEAR'] = formatted_dates_YEAR\n",
    "#     formatted_dates = []\n",
    "#     formatted_dates_MONTH_DAY = []\n",
    "#     formatted_dates_YEAR = []\n",
    "# df"
   ]
  },
  {
   "cell_type": "code",
   "execution_count": null,
   "metadata": {},
   "outputs": [],
   "source": [
    "# category_counts = df['category_code'].value_counts()\n",
    "# plt.figure(figsize=(10, 8))\n",
    "# sns.barplot(x=category_counts.values, y=category_counts.index, palette='Set2')\n",
    "# plt.title('Most Common Categories', fontsize=16)\n",
    "# plt.xlabel('Count', fontsize=14)\n",
    "# plt.ylabel('Category', fontsize=14)\n",
    "# plt.xticks(rotation=0, fontsize=12)\n",
    "# plt.yticks(fontsize=12)\n",
    "# plt.show()"
   ]
  },
  {
   "cell_type": "markdown",
   "metadata": {},
   "source": [
    "### Split to nominal and numerical attributes"
   ]
  },
  {
   "cell_type": "code",
   "execution_count": null,
   "metadata": {},
   "outputs": [],
   "source": [
    "numeric_col = df.describe().columns # to get the numeric column\n",
    "numeric_data = df[numeric_col]\n",
    "nominal_data = df.drop(numeric_col, axis=1)\n",
    "numeric_data"
   ]
  },
  {
   "cell_type": "markdown",
   "metadata": {},
   "source": [
    "We Created a folium map – a geographic interface – where we can see all the companies around the world, and we color coded it so that the successful companies are green colored, and the unsuccessful companies are red colored."
   ]
  },
  {
   "cell_type": "code",
   "execution_count": null,
   "metadata": {},
   "outputs": [],
   "source": [
    "# Create a folium map centered on the first location in the dataframe\n",
    "map = folium.Map(location=[numeric_data['latitude'][0], numeric_data['longitude'][0]], zoom_start=5)\n",
    "\n",
    "for i in range(len(numeric_data)):\n",
    "    popup_text = f\"{df['status_code'][i]} \"\n",
    "    if df['status_code'][i] == 1:\n",
    "        c = 'green'\n",
    "    else:# Target = closed\n",
    "        c = 'red'\n",
    "\n",
    "    folium.Marker([numeric_data['latitude'][i], numeric_data['longitude'][i]],\n",
    "        icon=folium.Icon(color=c,popup = popup_text), icon_size=(70, 70)).add_to(map)\n",
    "    \n",
    "# Display the map\n",
    "map\n"
   ]
  },
  {
   "cell_type": "markdown",
   "metadata": {},
   "source": [
    "We used cross-tabulation (crosstab) table to show that most of the companies are in CA and 2/3 of them were successful. So, it might be an indication that there's a strong connection between the companies location and their chance to succeed. We then show a similar connection using in_Top500 column."
   ]
  },
  {
   "cell_type": "code",
   "execution_count": null,
   "metadata": {},
   "outputs": [],
   "source": [
    "# cross-tabulation (crosstab) table\n",
    "ct = pd.crosstab(index=df['status_code'], columns=[df['is_NY'],df['is_MA'], df['is_CA'], df['is_TX'],df['is_otherstate']])\n",
    "ct"
   ]
  },
  {
   "cell_type": "code",
   "execution_count": null,
   "metadata": {},
   "outputs": [],
   "source": [
    "# cross-tabulation (crosstab) table\n",
    "ct = pd.crosstab(index=df['status_code'], columns=[df['is_top500']])\n",
    "ct"
   ]
  },
  {
   "cell_type": "markdown",
   "metadata": {},
   "source": [
    "We noticed, using boxplot, that in funding_total_usd column we have outliers. We found that there was one company that raised a lot of money, compared to the other companies. We decided to use log data transformation. "
   ]
  },
  {
   "cell_type": "code",
   "execution_count": null,
   "metadata": {},
   "outputs": [],
   "source": [
    "sns.boxplot(y=\"funding_total_usd\", data=numeric_data)"
   ]
  },
  {
   "cell_type": "code",
   "execution_count": null,
   "metadata": {},
   "outputs": [],
   "source": [
    "# outliers:\n",
    "data_mean = df['funding_total_usd'].mean()\n",
    "data_std = df['funding_total_usd'].std()\n",
    "cut_off = data_std * 3\n",
    "lower_bound = data_mean - cut_off\n",
    "upper_bound = data_mean + cut_off\n",
    "df.loc[(df['funding_total_usd'] > upper_bound) | (df['funding_total_usd'] < lower_bound)]"
   ]
  },
  {
   "cell_type": "code",
   "execution_count": null,
   "metadata": {},
   "outputs": [],
   "source": [
    "from sklearn.preprocessing import MinMaxScaler\n",
    "\n",
    "df['funding_total_usd_log'] = np.log(df['funding_total_usd'])\n",
    "scaler = MinMaxScaler()\n",
    "df['total_funding_normalized'] = scaler.fit_transform(df[['funding_total_usd_log']])\n",
    "\n",
    "\n",
    "# df[['funding_total_usd','total_funding_normalized']].head()\n",
    "sns.displot(df['total_funding_normalized'], bins=25, color='gray')\n"
   ]
  },
  {
   "cell_type": "code",
   "execution_count": null,
   "metadata": {},
   "outputs": [],
   "source": [
    "sns.boxplot(y=\"total_funding_normalized\", data=df)"
   ]
  },
  {
   "cell_type": "markdown",
   "metadata": {},
   "source": [
    "Preprocess:"
   ]
  },
  {
   "cell_type": "code",
   "execution_count": null,
   "metadata": {},
   "outputs": [],
   "source": [
    "df.info() # after preprocess"
   ]
  },
  {
   "cell_type": "markdown",
   "metadata": {},
   "source": [
    "Visualization:"
   ]
  },
  {
   "cell_type": "code",
   "execution_count": null,
   "metadata": {},
   "outputs": [],
   "source": [
    "# plot funding bins using a bar plot\n",
    "bin_edges = [0, 100000, 500000, 1000000, 5000000, 10000000, df['funding_total_usd'].max()] # binning funding_total_usd- i use this since histplot was unclear\n",
    "bin_labels = ['0-100K', '100K-500K', '500K-1M', '1M-5M', '5M-10M', '10M+']\n",
    "df['funding_bins'] = pd.cut(df['funding_total_usd'], bins=bin_edges, labels=bin_labels, include_lowest=True)\n",
    "\n",
    "funding_bin_counts = df['funding_bins'].value_counts().sort_index()\n",
    "\n",
    "plt.figure(figsize=(10, 6))\n",
    "sns.barplot(x=funding_bin_counts.index, y=funding_bin_counts.values, palette='viridis')\n",
    "plt.title('Distribution of Funding Total USD Bins')\n",
    "plt.xlabel('Funding Bins')\n",
    "plt.ylabel('Number of Startups')\n"
   ]
  },
  {
   "cell_type": "code",
   "execution_count": null,
   "metadata": {},
   "outputs": [],
   "source": [
    "sns.histplot(df['relationships'])\n",
    "plt.title('Relationships Distribution')\n",
    "plt.show()"
   ]
  },
  {
   "cell_type": "code",
   "execution_count": null,
   "metadata": {},
   "outputs": [],
   "source": [
    "# Pair plot\n",
    "sns.pairplot(df[['age_first_funding_year', 'age_last_funding_year', 'relationships', 'funding_rounds', 'funding_total_usd', 'milestones']])\n",
    "plt.show()\n"
   ]
  },
  {
   "cell_type": "code",
   "execution_count": null,
   "metadata": {},
   "outputs": [],
   "source": [
    "# Distribution of status\n",
    "plt.figure(figsize=(6, 6))\n",
    "sns.countplot(x='status_code', data=df, palette='viridis')\n",
    "plt.title('Distribution of Startup Status')\n"
   ]
  },
  {
   "cell_type": "code",
   "execution_count": null,
   "metadata": {},
   "outputs": [],
   "source": [
    "# Violin plot for funding rounds distribution by status\n",
    "plt.figure(figsize=(10, 6))\n",
    "sns.violinplot(x='status_code', y='funding_rounds', data=df, palette='viridis')\n",
    "plt.title('Funding Rounds Distribution by Status')\n"
   ]
  },
  {
   "cell_type": "code",
   "execution_count": null,
   "metadata": {},
   "outputs": [],
   "source": [
    "# df.to_csv('df.csv', index=False)\n"
   ]
  }
 ],
 "metadata": {
  "kernelspec": {
   "display_name": "Python 3",
   "language": "python",
   "name": "python3"
  },
  "language_info": {
   "codemirror_mode": {
    "name": "ipython",
    "version": 3
   },
   "file_extension": ".py",
   "mimetype": "text/x-python",
   "name": "python",
   "nbconvert_exporter": "python",
   "pygments_lexer": "ipython3",
   "version": "3.11.7"
  }
 },
 "nbformat": 4,
 "nbformat_minor": 2
}
