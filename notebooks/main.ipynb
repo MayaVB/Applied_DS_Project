{
 "cells": [
  {
   "cell_type": "markdown",
   "metadata": {},
   "source": [
    "## Imports"
   ]
  },
  {
   "cell_type": "code",
   "execution_count": 11,
   "metadata": {},
   "outputs": [],
   "source": [
    "from sklearn.impute import KNNImputer\n",
    "from sklearn.model_selection import train_test_split\n",
    "from sklearn.ensemble import RandomForestClassifier\n",
    "\n",
    "from eval import plot_feature_importances, plot_auc_roc_curve, perform_cross_validation\n",
    "from getdata import add_nasdaq_annual_changes, add_economic_indicators\n",
    "from models import train_xgb_model, train_rf_model, train_svm_model\n",
    "from models import evaluate_model, predict_model\n",
    "from printstatistics import print_correlations_Spearman_and_Pearson\n",
    "from preprocess import load_data, preprocess_data\n",
    "\n",
    "# %pip install yfinance\n",
    "# %pip install tweepy\n",
    "# %pip install wbdata pandas\n",
    "# %pip install xgboost"
   ]
  },
  {
   "cell_type": "markdown",
   "metadata": {},
   "source": [
    "## Load Data"
   ]
  },
  {
   "cell_type": "code",
   "execution_count": 15,
   "metadata": {},
   "outputs": [],
   "source": [
    "df = load_data('../data/startup_data.csv')"
   ]
  },
  {
   "cell_type": "code",
   "execution_count": null,
   "metadata": {},
   "outputs": [],
   "source": [
    "# # Create label\n",
    "# df['status_code'] = df['status'].map({'acquired': 1, 'closed': 0})\n",
    "\n",
    "# print_correlations_Spearman_and_Pearson(df['relationships'], df['status_code'])\n",
    "# print_correlations_Spearman_and_Pearson(df['avg_participants'], df['status_code'])\n",
    "# print_correlations_Spearman_and_Pearson(df['has_roundC'], df['status_code'])\n",
    "# print_correlations_Spearman_and_Pearson(df['has_roundD'], df['status_code'])\n",
    "\n",
    "# print_correlations_Spearman_and_Pearson(df['relationships'], df['status_code'])\n",
    "# print_correlations_Spearman_and_Pearson(df['avg_participants'], df['status_code'])\n",
    "# print_correlations_Spearman_and_Pearson(df['has_roundC'], df['status_code'])\n",
    "# print_correlations_Spearman_and_Pearson(df['has_roundD'], df['status_code'])\n",
    "\n",
    "# df.drop(columns=['status_code'])"
   ]
  },
  {
   "cell_type": "markdown",
   "metadata": {},
   "source": [
    "## Preprocess Data"
   ]
  },
  {
   "cell_type": "code",
   "execution_count": null,
   "metadata": {},
   "outputs": [],
   "source": [
    "\n",
    "# Add economic indicators\n",
    "df = add_nasdaq_annual_changes(df)\n",
    "indicator_code = 'NY.GDP.MKTP.KD.ZG'\n",
    "df = add_economic_indicators(df, indicator_code)\n",
    "indicator_code = 'SL.UEM.TOTL.ZS'\n",
    "df = add_economic_indicators(df, indicator_code)\n",
    "\n",
    "# Preprocess the data\n",
    "X, y = preprocess_data(df)\n",
    "\n",
    "# Split data\n",
    "X_train, X_test, y_train, y_test = train_test_split(X, y, test_size=0.2, random_state=20)\n"
   ]
  },
  {
   "cell_type": "markdown",
   "metadata": {},
   "source": [
    "# Train predict and evaluate models"
   ]
  },
  {
   "cell_type": "code",
   "execution_count": null,
   "metadata": {},
   "outputs": [],
   "source": [
    "# XG Boost\n",
    "xgb_clf = train_xgb_model(X_train, y_train)\n",
    "xgb_pred, xgb_prob = predict_model(xgb_clf, X_test)\n",
    "evaluate_model(y_test, xgb_pred, xgb_prob, threshold=0.7)\n",
    "cv_results_xgb = perform_cross_validation(xgb_clf, X_train, y_train, n_splits=5, random_state=42)\n",
    "\n",
    "plot_feature_importances(xgb_clf, feature_names=X.columns, num_of_features=10)\n",
    "plot_auc_roc_curve(y_test, xgb_prob, model_name='XG-Boost')"
   ]
  },
  {
   "cell_type": "code",
   "execution_count": null,
   "metadata": {},
   "outputs": [],
   "source": [
    "# Fandom Forest\n",
    "rf_clf = train_rf_model(X_train, y_train)\n",
    "rf_pred, rf_prob = predict_model(rf_clf, X_test)\n",
    "evaluate_model(y_test, rf_pred, rf_prob)\n",
    "cv_results_rf = perform_cross_validation(rf_clf, X_train, y_train, n_splits=5, random_state=42)\n",
    "\n",
    "plot_feature_importances(rf_clf, feature_names=X.columns, num_of_features=10)\n",
    "plot_auc_roc_curve(y_test, rf_prob, model_name='randomForest')"
   ]
  },
  {
   "cell_type": "code",
   "execution_count": null,
   "metadata": {},
   "outputs": [],
   "source": [
    "# SVM\n",
    "svm_clf = train_svm_model(X_train, y_train)\n",
    "svm_pred, svm_prob = predict_model(svm_clf, X_test)\n",
    "evaluate_model(y_test, svm_pred, svm_prob)\n",
    "cv_results_SVM = perform_cross_validation(svm_clf, X_train, y_train, n_splits=5, random_state=42)\n",
    "\n",
    "plot_auc_roc_curve(y_test, svm_prob, model_name='SVM')"
   ]
  }
 ],
 "metadata": {
  "kernelspec": {
   "display_name": "base",
   "language": "python",
   "name": "python3"
  },
  "language_info": {
   "codemirror_mode": {
    "name": "ipython",
    "version": 3
   },
   "file_extension": ".py",
   "mimetype": "text/x-python",
   "name": "python",
   "nbconvert_exporter": "python",
   "pygments_lexer": "ipython3",
   "version": "3.11.7"
  }
 },
 "nbformat": 4,
 "nbformat_minor": 2
}
